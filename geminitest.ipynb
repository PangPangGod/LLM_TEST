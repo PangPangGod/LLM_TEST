{
 "cells": [
  {
   "cell_type": "code",
   "execution_count": 1,
   "metadata": {},
   "outputs": [],
   "source": [
    "!pip install -q -U google.generativeai"
   ]
  },
  {
   "cell_type": "code",
   "execution_count": 2,
   "metadata": {},
   "outputs": [],
   "source": [
    "# IPython 커널에서 다양한 형식 출력 -> class 참조\n",
    "\n",
    "from IPython.display import display\n",
    "from IPython.display import Markdown"
   ]
  },
  {
   "cell_type": "code",
   "execution_count": 3,
   "metadata": {},
   "outputs": [],
   "source": [
    "import os\n",
    "from apikey import GOOGLE_API_KEY\n",
    "\n",
    "os.environ['GOOGLE_API_KEY'] = GOOGLE_API_KEY #SET API KEY"
   ]
  },
  {
   "cell_type": "code",
   "execution_count": 4,
   "metadata": {},
   "outputs": [],
   "source": [
    "import google.generativeai as genai\n",
    "\n",
    "genai.configure(api_key=os.environ.get('GOOGLE_API_KEY'),)"
   ]
  },
  {
   "cell_type": "code",
   "execution_count": 5,
   "metadata": {},
   "outputs": [
    {
     "name": "stdout",
     "output_type": "stream",
     "text": [
      "models/chat-bison-001\n",
      "['generateMessage', 'countMessageTokens']\n",
      "models/text-bison-001\n",
      "['generateText', 'countTextTokens', 'createTunedTextModel']\n",
      "models/embedding-gecko-001\n",
      "['embedText', 'countTextTokens']\n",
      "models/gemini-pro\n",
      "['generateContent', 'countTokens']\n",
      "models/gemini-pro-vision\n",
      "['generateContent', 'countTokens']\n",
      "models/embedding-001\n",
      "['embedContent', 'countTextTokens']\n",
      "models/aqa\n",
      "['generateAnswer']\n"
     ]
    }
   ],
   "source": [
    "for model in genai.list_models():\n",
    "    print(model.name)\n",
    "    print(model.supported_generation_methods)"
   ]
  },
  {
   "cell_type": "markdown",
   "metadata": {},
   "source": [
    "\n",
    "\n",
    "이거 참조해서 dictionary 형태로 넣으면 된다"
   ]
  },
  {
   "cell_type": "code",
   "execution_count": 6,
   "metadata": {},
   "outputs": [],
   "source": [
    "#model_config\n",
    "generation_config = {\n",
    "    \"temperature\":0, #자유도\n",
    "    \"top_p\":1, #token 순위(누적확률)\n",
    "    \"top_k\":1, \n",
    "    \"max_output_tokens\":1024,\n",
    "}\n",
    "\n",
    "safety_settings = [\n",
    "    {}\n",
    "]\n",
    "\n",
    "#여기에 safety 관련해서 넣는것, 일단 안 건듬."
   ]
  },
  {
   "cell_type": "code",
   "execution_count": 7,
   "metadata": {},
   "outputs": [],
   "source": [
    "gemini = genai.GenerativeModel(model_name='gemini-pro',generation_config=generation_config)"
   ]
  },
  {
   "cell_type": "code",
   "execution_count": 8,
   "metadata": {},
   "outputs": [],
   "source": [
    "example_question = \"나에게 이순신 장군에 대해 말해봐\""
   ]
  },
  {
   "cell_type": "code",
   "execution_count": 9,
   "metadata": {},
   "outputs": [
    {
     "name": "stdout",
     "output_type": "stream",
     "text": [
      "CPU times: total: 0 ns\n",
      "Wall time: 9.42 s\n"
     ]
    },
    {
     "data": {
      "text/markdown": [
       "이순신(1545~1598)은 조선 중기의 무신이자 정치인으로, 임진왜란 당시 조선 수군을 이끌고 일본군을 물리친 것으로 유명합니다.\n",
       "\n",
       "이순신은 1545년 경상도 아산에서 태어났습니다. 어려서부터 무예에 뛰어나 1572년 무과에 급제하여 관직에 올랐습니다. 1592년 임진왜란이 발발하자 이순신은 전라좌수사로 임명되어 전라도의 수군을 지휘하게 되었습니다.\n",
       "\n",
       "이순신은 뛰어난 전략과 전술로 일본군을 상대로 여러 차례 승리를 거두었습니다. 특히 1597년 10월에 일어난 노량해전에서 이순신은 일본 수군을 완전히 격파하여 임진왜란의 종식을 가져왔습니다.\n",
       "\n",
       "이순신은 임진왜란에서의 공로로 정1품 관직인 영의정에 올랐고, 1598년에는 충무공에 추증되었습니다. 이순신은 조선 역사상 가장 위대한 장군 중 한 명으로 평가받고 있으며, 그의 업적은 오늘날에도 많은 사람들에게 기억되고 있습니다.\n",
       "\n",
       "이순신의 주요 업적은 다음과 같습니다.\n",
       "\n",
       "* 1592년 5월, 당포해전에서 일본 수군을 격파하여 임진왜란의 첫 승리를 거두었습니다.\n",
       "* 1592년 7월, 한산도 해전에서 일본 수군을 다시 격파하여 임진왜란의 두 번째 승리를 거두었습니다.\n",
       "* 1593년 1월, 옥포해전에서 일본 수군을 세 번째로 격파하여 임진왜란의 세 번째 승리를 거두었습니다.\n",
       "* 1597년 10월, 노량해전에서 일본 수군을 완전히 격파하여 임진왜란의 종식을 가져왔습니다.\n",
       "\n",
       "이순신은 뛰어난 전략과 전술로 일본군을 상대로 여러 차례 승리를 거두었으며, 그의 업적은 오늘날에도 많은 사람들에게 기억되고 있습니다."
      ],
      "text/plain": [
       "<IPython.core.display.Markdown object>"
      ]
     },
     "execution_count": 9,
     "metadata": {},
     "output_type": "execute_result"
    }
   ],
   "source": [
    "%%time\n",
    "response = gemini.generate_content(contents=example_question)\n",
    "Markdown(response.text)"
   ]
  },
  {
   "cell_type": "code",
   "execution_count": 10,
   "metadata": {},
   "outputs": [
    {
     "name": "stdout",
     "output_type": "stream",
     "text": [
      "이순신(1545~1598)은 조선 중기의 무신, 군인, 정치인, 시인, 작가, 발명가, 해군 제독이다.\n",
      "\n",
      "그는 조선의 명장으로 불리며, 임진왜란 당시 일본군을 상대로 수많은 승리를 거두었다.\n",
      "\n",
      "이순신은 1545년 경상도 아산에서 태어났다.\n",
      "\n",
      "그는 어려서부터 무예에 뛰어났으며, 1572년에 무과에 급제하여 관직에 올랐다.\n",
      "\n",
      "1592년 임진왜란이 발발하자 이순신은 전라좌수사로 임명되어 전라도의 방어를 맡았다.\n",
      "\n",
      "그는 1592년 5월에 옥포 해전에서 일본군을 처음으로 물리쳤고, 이후에도 1592년 7월에 한산도 해전, 1592년 8월에 영암 해전, 1592년 9월에 울산 해전, 1593년 1월에 칠천량 해전, 1593년 3월에 사천 해전, 1593년 5월에 당포 해전, 1593년 6월에 탄항 해전, 1593년 7월에 노량 해전 등에서 일본군을 연이어 물리쳤다.\n",
      "\n",
      "이순신은 1598년 12월에 노량 해전에서 일본군과 싸우다 전사했다.\n",
      "\n",
      "그는 죽은 후에 정조에 의해 충무공에 추증되었고, 현재 충청남도 아산시에 있는 충무공묘에 안장되어 있다.\n",
      "\n",
      "이순신은 조선의 명장으로 불리며, 그의 업적은 오늘날에도 많은 사람들에게 기억되고 있다.\n",
      "\n",
      "그는 조선의 독립을 지키기 위해 싸운 위대한 영웅이다.CPU times: total: 0 ns\n",
      "Wall time: 7.4 s\n"
     ]
    }
   ],
   "source": [
    "%%time\n",
    "response = gemini.generate_content(\"나에게 이순신 장군에 대해 말해봐.\", stream=True)\n",
    "\n",
    "for chunk in response:\n",
    "    print(chunk.text, flush=True, end=\"\")"
   ]
  },
  {
   "cell_type": "code",
   "execution_count": 11,
   "metadata": {},
   "outputs": [
    {
     "data": {
      "text/plain": [
       "safety_ratings {\n",
       "  category: HARM_CATEGORY_SEXUALLY_EXPLICIT\n",
       "  probability: NEGLIGIBLE\n",
       "}\n",
       "safety_ratings {\n",
       "  category: HARM_CATEGORY_HATE_SPEECH\n",
       "  probability: NEGLIGIBLE\n",
       "}\n",
       "safety_ratings {\n",
       "  category: HARM_CATEGORY_HARASSMENT\n",
       "  probability: NEGLIGIBLE\n",
       "}\n",
       "safety_ratings {\n",
       "  category: HARM_CATEGORY_DANGEROUS_CONTENT\n",
       "  probability: NEGLIGIBLE\n",
       "}"
      ]
     },
     "execution_count": 11,
     "metadata": {},
     "output_type": "execute_result"
    }
   ],
   "source": [
    "response.prompt_feedback #prompt config check -> 설정 가능"
   ]
  },
  {
   "cell_type": "code",
   "execution_count": null,
   "metadata": {},
   "outputs": [],
   "source": [
    "gemini_chat = gemini.start_chat(history=[])"
   ]
  },
  {
   "cell_type": "code",
   "execution_count": null,
   "metadata": {},
   "outputs": [
    {
     "data": {
      "text/markdown": [
       "화성"
      ],
      "text/plain": [
       "<IPython.core.display.Markdown object>"
      ]
     },
     "execution_count": 68,
     "metadata": {},
     "output_type": "execute_result"
    }
   ],
   "source": [
    "gemini_chat.send_message(\"지구 다음으로 오는 행성의 이름은 뭐니?\")\n",
    "Markdown(gemini_chat.last.text)"
   ]
  },
  {
   "cell_type": "code",
   "execution_count": null,
   "metadata": {},
   "outputs": [
    {
     "data": {
      "text/markdown": [
       "목성"
      ],
      "text/plain": [
       "<IPython.core.display.Markdown object>"
      ]
     },
     "execution_count": 69,
     "metadata": {},
     "output_type": "execute_result"
    }
   ],
   "source": [
    "gemini_chat.send_message(\"그 다음으로 오는 행성은?\")\n",
    "Markdown(gemini_chat.last.text)"
   ]
  },
  {
   "cell_type": "code",
   "execution_count": null,
   "metadata": {},
   "outputs": [
    {
     "name": "stdout",
     "output_type": "stream",
     "text": [
      "[parts {\n",
      "  text: \"지구 다음으로 오는 행성의 이름은 뭐니?\"\n",
      "}\n",
      "role: \"user\"\n",
      ", parts {\n",
      "  text: \"화성\"\n",
      "}\n",
      "role: \"model\"\n",
      ", parts {\n",
      "  text: \"그 다음으로 오는 행성은?\"\n",
      "}\n",
      "role: \"user\"\n",
      ", parts {\n",
      "  text: \"목성\"\n",
      "}\n",
      "role: \"model\"\n",
      "]\n"
     ]
    }
   ],
   "source": [
    "print(gemini_chat.history, flush=True)"
   ]
  },
  {
   "cell_type": "code",
   "execution_count": null,
   "metadata": {},
   "outputs": [
    {
     "data": {
      "text/markdown": [
       "**user**: 지구 다음으로 오는 행성의 이름은 뭐니?"
      ],
      "text/plain": [
       "<IPython.core.display.Markdown object>"
      ]
     },
     "metadata": {},
     "output_type": "display_data"
    },
    {
     "data": {
      "text/markdown": [
       "**model**: 화성"
      ],
      "text/plain": [
       "<IPython.core.display.Markdown object>"
      ]
     },
     "metadata": {},
     "output_type": "display_data"
    },
    {
     "data": {
      "text/markdown": [
       "**user**: 그 다음으로 오는 행성은?"
      ],
      "text/plain": [
       "<IPython.core.display.Markdown object>"
      ]
     },
     "metadata": {},
     "output_type": "display_data"
    },
    {
     "data": {
      "text/markdown": [
       "**model**: 목성"
      ],
      "text/plain": [
       "<IPython.core.display.Markdown object>"
      ]
     },
     "metadata": {},
     "output_type": "display_data"
    }
   ],
   "source": [
    "for message in gemini_chat.history:\n",
    "    display(Markdown(f'**{message.role}**: {message.parts[0].text}'))"
   ]
  },
  {
   "cell_type": "code",
   "execution_count": null,
   "metadata": {},
   "outputs": [
    {
     "name": "stdout",
     "output_type": "stream",
     "text": [
      "<class 'PIL.JpegImagePlugin.JpegImageFile'>\n"
     ]
    }
   ],
   "source": [
    "## gemini-pro-vision test\n",
    "\n",
    "from PIL import Image\n",
    "\n",
    "testimg = Image.open('testimg.jpg')\n",
    "print(type(testimg))"
   ]
  },
  {
   "cell_type": "code",
   "execution_count": null,
   "metadata": {},
   "outputs": [
    {
     "data": {
      "text/plain": [
       " genai.GenerativeModel(\n",
       "   model_name='models/gemini-pro-vision',\n",
       "   generation_config={}.\n",
       "   safety_settings={}\n",
       ")"
      ]
     },
     "execution_count": 6,
     "metadata": {},
     "output_type": "execute_result"
    }
   ],
   "source": [
    "gemini_vision = genai.GenerativeModel(model_name=\"gemini-pro-vision\")\n",
    "gemini_vision"
   ]
  },
  {
   "cell_type": "code",
   "execution_count": null,
   "metadata": {},
   "outputs": [
    {
     "name": "stdout",
     "output_type": "stream",
     "text": [
      " | Length of Macro Streak | Over 0.5 to 1.0 inch | Over 1.0 to 2.0 inch | Over 2.0 to 4.0 inch |\n",
      "| :--- | :---: | :---: | :---: |\n",
      "| Raw (mm) | 6.0 Max | 1.5 Max | 1.0 Max |\n",
      "| Number of Macro Streak |  |  |  |\n",
      "| Raw (per 100cm sq) | 6.0 Max | 1.5 Max | 1.0 Max |\n"
     ]
    }
   ],
   "source": [
    "testimg = testimg.resize((200,200))\n",
    "response = gemini_vision.generate_content(testimg)\n",
    "print(response.text)"
   ]
  },
  {
   "cell_type": "code",
   "execution_count": null,
   "metadata": {},
   "outputs": [
    {
     "data": {
      "text/markdown": [
       " | Length of Macro Streak | Over 0.5 to 1.0 inch | Over 1.0 to 2.0 inch | Over 2.0 inch |\n",
       "|---|---|---|---|\n",
       "| Raw (mm) | 6.0 Max | 1.5 Max | 1.0 Max |"
      ],
      "text/plain": [
       "<IPython.core.display.Markdown object>"
      ]
     },
     "execution_count": 14,
     "metadata": {},
     "output_type": "execute_result"
    }
   ],
   "source": [
    "response = gemini_vision.generate_content([\"What is length macro streak in this image? give me detailed information. with markdown table format.\", testimg], stream=True)\n",
    "response.resolve()\n",
    "Markdown(response.text)"
   ]
  },
  {
   "cell_type": "code",
   "execution_count": null,
   "metadata": {},
   "outputs": [],
   "source": []
  },
  {
   "cell_type": "code",
   "execution_count": null,
   "metadata": {},
   "outputs": [],
   "source": []
  },
  {
   "cell_type": "code",
   "execution_count": null,
   "metadata": {},
   "outputs": [],
   "source": []
  },
  {
   "cell_type": "markdown",
   "metadata": {},
   "source": []
  },
  {
   "cell_type": "code",
   "execution_count": null,
   "metadata": {},
   "outputs": [],
   "source": []
  },
  {
   "cell_type": "code",
   "execution_count": null,
   "metadata": {},
   "outputs": [],
   "source": []
  }
 ],
 "metadata": {
  "kernelspec": {
   "display_name": "gemini",
   "language": "python",
   "name": "python3"
  },
  "language_info": {
   "codemirror_mode": {
    "name": "ipython",
    "version": 3
   },
   "file_extension": ".py",
   "mimetype": "text/x-python",
   "name": "python",
   "nbconvert_exporter": "python",
   "pygments_lexer": "ipython3",
   "version": "3.10.13"
  }
 },
 "nbformat": 4,
 "nbformat_minor": 2
}
